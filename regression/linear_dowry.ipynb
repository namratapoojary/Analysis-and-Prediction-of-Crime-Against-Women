{
 "cells": [
  {
   "cell_type": "code",
   "execution_count": 1,
   "metadata": {},
   "outputs": [],
   "source": [
    "#importing all the required libraries\n",
    "import numpy as np\n",
    "import matplotlib\n",
    "import pandas as pd\n",
    "from matplotlib import style\n",
    "import matplotlib.pyplot as plt\n",
    "import matplotlib \n",
    "import sklearn\n",
    "import warnings\n",
    "from sklearn import linear_model\n",
    "from sklearn.model_selection import train_test_split\n",
    "warnings.simplefilter(action=\"ignore\",category=FutureWarning)\n",
    "%matplotlib inline"
   ]
  },
  {
   "cell_type": "code",
   "execution_count": 2,
   "metadata": {},
   "outputs": [
    {
     "name": "stdout",
     "output_type": "stream",
     "text": [
      "Year\n",
      "8    2009\n",
      "1    2002\n",
      "7    2008\n",
      "9    2010\n",
      "3    2004\n",
      "0    2001\n",
      "5    2006\n",
      "Name: Year, dtype: int64\n",
      "\n",
      "Crimes\n",
      "   Rape  Kidnapping and Abduction  Dowry Deaths  \\\n",
      "8  1188                        28           546   \n",
      "1  1002                        38           449   \n",
      "7  1257                        47           556   \n",
      "9  1362                        46           588   \n",
      "3  1016                        41           512   \n",
      "0   871                        55           420   \n",
      "5  1049                        51           519   \n",
      "\n",
      "   Assault on women with intent to outrage her modesty  \\\n",
      "8                                               5147     \n",
      "1                                               3799     \n",
      "7                                               4730     \n",
      "9                                               4634     \n",
      "3                                               3817     \n",
      "0                                               3544     \n",
      "5                                               4534     \n",
      "\n",
      "   Insult to modesty of Women  Cruelty by Husband or his Relatives  \\\n",
      "8                        3520                                   13   \n",
      "1                        2024                                   13   \n",
      "7                        3551                                   13   \n",
      "9                        4562                                   12   \n",
      "3                        2310                                    4   \n",
      "0                        2271                                   11   \n",
      "5                        2411                                   14   \n",
      "\n",
      "   Importation of Girls  \n",
      "8                     0  \n",
      "1                     0  \n",
      "7                     0  \n",
      "9                     0  \n",
      "3                     2  \n",
      "0                     7  \n",
      "5                     0  \n",
      "For test data \n",
      "Year\n",
      "6     2007\n",
      "11    2012\n",
      "4     2005\n",
      "10    2011\n",
      "2     2003\n",
      "Name: Year, dtype: int64\n",
      "\n",
      "Crimes\n",
      "    Rape  Kidnapping and Abduction  Dowry Deaths  \\\n",
      "6   1070                        44           613   \n",
      "11  1341                        58           504   \n",
      "4    935                        39           443   \n",
      "10  1442                        60           599   \n",
      "2    946                        51           466   \n",
      "\n",
      "    Assault on women with intent to outrage her modesty  \\\n",
      "6                                                4406     \n",
      "11                                               4816     \n",
      "4                                                3595     \n",
      "10                                               4849     \n",
      "2                                                4128     \n",
      "\n",
      "    Insult to modesty of Women  Cruelty by Husband or his Relatives  \\\n",
      "6                         3316                                   20   \n",
      "11                        3714                                   26   \n",
      "4                         2508                                    9   \n",
      "10                        3658                                   18   \n",
      "2                         2286                                   14   \n",
      "\n",
      "    Importation of Girls  \n",
      "6                      0  \n",
      "11                     0  \n",
      "4                      3  \n",
      "10                     0  \n",
      "2                      5  \n"
     ]
    }
   ],
   "source": [
    "\n",
    "df = pd.read_csv('andhra_linear_total.csv')\n",
    "xs=df.iloc[:,0]\n",
    "ys=df.iloc[:,1:]\n",
    "from sklearn.model_selection import train_test_split  \n",
    "X_train, X_test, y_train, y_test = train_test_split(xs, ys, test_size=0.4, random_state=0)\n",
    "print(\"Year\\n\"+str(X_train)+\"\\n\\nCrimes\\n\"+str(y_train))\n",
    "print(\"For test data \\nYear\\n\"+str(X_test)+\"\\n\\nCrimes\\n\"+str(y_test))"
   ]
  },
  {
   "cell_type": "code",
   "execution_count": 3,
   "metadata": {},
   "outputs": [
    {
     "data": {
      "text/plain": [
       "(7, 7)"
      ]
     },
     "execution_count": 3,
     "metadata": {},
     "output_type": "execute_result"
    }
   ],
   "source": [
    "len(X_train),len(y_train)"
   ]
  },
  {
   "cell_type": "code",
   "execution_count": 4,
   "metadata": {},
   "outputs": [],
   "source": [
    "x_xtrain_dowry=X_train\n",
    "#print(x_xtrain_rape)\n",
    "y_ytrain_dowry=y_train.iloc[:,2]\n",
    "#print(y_ytrain_rape)\n",
    "#plt.scatter(x_xtrain_rape,y_ytrain_rape)\n",
    "#plt.ylabel(\"Rape crime Rate\")\n",
    "#plt.xlabel(\"Year\")\n",
    "#plt.show()"
   ]
  },
  {
   "cell_type": "code",
   "execution_count": 5,
   "metadata": {},
   "outputs": [
    {
     "data": {
      "text/plain": [
       "(16.45, -32481.14)"
      ]
     },
     "execution_count": 5,
     "metadata": {},
     "output_type": "execute_result"
    }
   ],
   "source": [
    "def slope_intercept(x_val,y_val):\n",
    "  x=np.array(x_val)\n",
    "  y=np.array(y_val)\n",
    "  m=( ( (np.mean(x)*np.mean(y)) - np.mean(x*y) ) /\n",
    "    ((np.mean(x)*np.mean(x))-np.mean(x*x)) )\n",
    "  m=round(m,2)\n",
    "  b=(np.mean(y)-np.mean(x)*m)\n",
    "  b=round(b,2)\n",
    "  \n",
    "  return m,b\n",
    "\n",
    "slope_intercept(x_xtrain_dowry,y_ytrain_dowry)"
   ]
  },
  {
   "cell_type": "code",
   "execution_count": 6,
   "metadata": {},
   "outputs": [
    {
     "data": {
      "image/png": "[encoded data removed]",
      "text/plain": [
       "<Figure size 432x288 with 1 Axes>"
      ]
     },
     "metadata": {
      "needs_background": "light"
     },
     "output_type": "display_data"
    }
   ],
   "source": [
    "m,b=slope_intercept(x_xtrain_dowry,y_ytrain_dowry)\n",
    "reg_line=[(m*x)+b for x in x_xtrain_dowry]\n",
    "plt.scatter(x_xtrain_dowry,y_ytrain_dowry,color=\"red\")\n",
    "plt.plot(x_xtrain_dowry,reg_line)\n",
    "plt.ylabel(\"Dowry Deaths crime rate\")\n",
    "plt.xlabel(\"Year\")\n",
    "plt.title(\"Making a regression line\")\n",
    "plt.savefig('dowry_before_pred.png')"
   ]
  },
  {
   "cell_type": "code",
   "execution_count": 7,
   "metadata": {
    "scrolled": true
   },
   "outputs": [
    {
     "name": "stdout",
     "output_type": "stream",
     "text": [
      "X_test(Year)\n",
      "2007\n",
      "2012\n",
      "2005\n",
      "2011\n",
      "2003\n",
      "\n",
      "\n",
      "Y_test(Actual)\n",
      "613\n",
      "504\n",
      "443\n",
      "599\n",
      "466\n",
      "\n",
      "\n",
      "Y_Predicted\n",
      "534\n",
      "616\n",
      "501\n",
      "599\n",
      "468\n"
     ]
    }
   ],
   "source": [
    "x_xtest_dowry=X_test\n",
    "y_ytest_dowry=y_test.iloc[:,-5]\n",
    "print(\"X_test(Year)\")\n",
    "for x in np.nditer(x_xtest_dowry):\n",
    "  print(x)\n",
    "print(\"\\n\\nY_test(Actual)\")\n",
    "for x in np.nditer(y_ytest_dowry):\n",
    "  print(x)\n",
    "ypredd=m*x_xtest_dowry+b\n",
    "print(\"\\n\\nY_Predicted\")\n",
    "for x in np.nditer(ypredd):\n",
    "  print(int(x))"
   ]
  },
  {
   "cell_type": "code",
   "execution_count": 9,
   "metadata": {},
   "outputs": [
    {
     "name": "stdout",
     "output_type": "stream",
     "text": [
      "Years: [2009 2002 2008 2010 2004 2001 2006 2007 2012 2005 2011 2003]\n",
      "dowry: \n",
      "[546.   449.   556.   588.   512.   420.   519.   534.01 616.26 501.11\n",
      " 599.81 468.21]\n"
     ]
    },
    {
     "data": {
      "text/plain": [
       "Text(0.5, 1.0, 'Making a regression line')"
      ]
     },
     "execution_count": 9,
     "metadata": {},
     "output_type": "execute_result"
    },
    {
     "data": {
      "image/png": "[encoded data removed]",
      "text/plain": [
       "<Figure size 432x288 with 1 Axes>"
      ]
     },
     "metadata": {
      "needs_background": "light"
     },
     "output_type": "display_data"
    }
   ],
   "source": [
    "trmergedlist0=np.concatenate((x_xtrain_dowry,x_xtest_dowry), axis=0)\n",
    "print(\"Years: \"+str(trmergedlist0))\n",
    "\n",
    "reg_line=[(m*x)+b for x in trmergedlist0]\n",
    "\n",
    "temergedlist0=np.concatenate((y_ytrain_dowry,ypredd), axis=0)\n",
    "print(\"dowry: \")\n",
    "    \n",
    "print(str(temergedlist0))\n",
    "\n",
    "plt.scatter(trmergedlist0,temergedlist0,color=\"red\")\n",
    "plt.plot(trmergedlist0,reg_line)\n",
    "plt.ylabel(\"dowry crime rate\")\n",
    "plt.xlabel(\"Year\")\n",
    "plt.title(\"Making a regression line\")"
   ]
  },
  {
   "cell_type": "code",
   "execution_count": 10,
   "metadata": {},
   "outputs": [],
   "source": [
    "years = np.array([2013,2014,2015,2016,2017,2018,2019,2020])\n",
    "df1=pd.DataFrame(years)\n",
    "#print(df1)\n",
    "ypredd1=(m*years+b)\n"
   ]
  },
  {
   "cell_type": "code",
   "execution_count": 11,
   "metadata": {},
   "outputs": [
    {
     "name": "stdout",
     "output_type": "stream",
     "text": [
      "Years: [2009 2002 2008 2010 2004 2001 2006 2007 2012 2005 2011 2003 2013 2014\n",
      " 2015 2016 2017 2018 2019 2020]\n",
      "Dowry Deaths: \n",
      "[546.   449.   556.   588.   512.   420.   519.   613.   504.   443.\n",
      " 599.   466.   632.71 649.16 665.61 682.06 698.51 714.96 731.41 747.86]\n"
     ]
    }
   ],
   "source": [
    "trmergedlist=np.concatenate((x_xtrain_dowry,x_xtest_dowry, years), axis=0)\n",
    "print(\"Years: \"+str(trmergedlist))\n",
    "\n",
    "#print(temergedlist)\n",
    "#m,b=slope_intercept(trmergedlist,temergedlist)\n",
    "\n",
    "reg_line=[(m*x)+b for x in trmergedlist]\n",
    "\n",
    "temergedlist=np.concatenate((y_ytrain_dowry,y_ytest_dowry,ypredd1), axis=0)\n",
    "print(\"Dowry Deaths: \")\n",
    "    \n",
    "print(str(temergedlist))\n",
    "\n"
   ]
  },
  {
   "cell_type": "code",
   "execution_count": 12,
   "metadata": {},
   "outputs": [
    {
     "data": {
      "image/png": "[encoded data removed]",
      "text/plain": [
       "<Figure size 432x288 with 1 Axes>"
      ]
     },
     "metadata": {
      "needs_background": "light"
     },
     "output_type": "display_data"
    }
   ],
   "source": [
    "plt.scatter(trmergedlist,temergedlist,color=\"red\")\n",
    "plt.plot(trmergedlist,reg_line)\n",
    "plt.xlim((2001,2020))\n",
    "#plt.ylim((800,1900))\n",
    "plt.ylabel(\"Dowry Deaths crime rate\")\n",
    "plt.xlabel(\"Year\")\n",
    "plt.title(\"Making a regression line\")\n",
    "plt.savefig('dowry_after_pred.png')"
   ]
  },
  {
   "cell_type": "code",
   "execution_count": null,
   "metadata": {},
   "outputs": [],
   "source": []
  }
 ],
 "metadata": {
  "kernelspec": {
   "display_name": "Python 3",
   "language": "python",
   "name": "python3"
  },
  "language_info": {
   "codemirror_mode": {
    "name": "ipython",
    "version": 3
   },
   "file_extension": ".py",
   "mimetype": "text/x-python",
   "name": "python",
   "nbconvert_exporter": "python",
   "pygments_lexer": "ipython3",
   "version": "3.7.3"
  }
 },
 "nbformat": 4,
 "nbformat_minor": 2
}
