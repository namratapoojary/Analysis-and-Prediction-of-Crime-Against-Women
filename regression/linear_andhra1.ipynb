{
 "cells": [
  {
   "cell_type": "code",
   "execution_count": 160,
   "metadata": {
    "colab": {},
    "colab_type": "code",
    "id": "V4_Qyfi6nQ5X"
   },
   "outputs": [],
   "source": [
    "import numpy as np\n",
    "import matplotlib\n",
    "import pandas as pd\n",
    "from matplotlib import style\n",
    "import matplotlib.pyplot as plt\n",
    "import matplotlib \n",
    "import sklearn\n",
    "import warnings\n",
    "from sklearn import linear_model\n",
    "from sklearn.model_selection import train_test_split\n",
    "warnings.simplefilter(action=\"ignore\",category=FutureWarning)\n",
    "%matplotlib inline"
   ]
  },
  {
   "cell_type": "code",
   "execution_count": 161,
   "metadata": {
    "colab": {
     "base_uri": "https://localhost:8080/",
     "height": 374
    },
    "colab_type": "code",
    "id": "Iz-b-jTfzyYa",
    "outputId": "27dd21cb-a4bc-43ab-94fd-46e0530e5eb6"
   },
   "outputs": [],
   "source": [
    "#Rape \n",
    "df = pd.read_csv('andhra_linear_total.csv')\n",
    "xs=df.iloc[:,0]\n",
    "ys=df.iloc[:,1]\n",
    "#from sklearn.model_selection import train_test_split  \n",
    "#X_train, X_test, y_train, y_test = train_test_split(xs, ys, test_size=0.3, random_state=0)\n",
    "#print(\"Year\\n\"+str(X_train)+\"\\n\\nRape\\n\"+str(y_train))"
   ]
  },
  {
   "cell_type": "code",
   "execution_count": 162,
   "metadata": {
    "colab": {
     "base_uri": "https://localhost:8080/",
     "height": 34
    },
    "colab_type": "code",
    "id": "wZt_5KJkf-K4",
    "outputId": "4ecf7049-edb0-485f-b9b8-93ccf11be78c"
   },
   "outputs": [
    {
     "data": {
      "text/plain": [
       "(12, 12)"
      ]
     },
     "execution_count": 162,
     "metadata": {},
     "output_type": "execute_result"
    }
   ],
   "source": [
    "len(xs),len(ys)"
   ]
  },
  {
   "cell_type": "code",
   "execution_count": 163,
   "metadata": {
    "colab": {
     "base_uri": "https://localhost:8080/",
     "height": 279
    },
    "colab_type": "code",
    "id": "YK-SRrNCwNp7",
    "outputId": "c091b0fd-0620-400f-cefa-5c6cef01181d"
   },
   "outputs": [],
   "source": [
    "#plt.scatter(xs,ys)\n",
    "#plt.ylabel(\"Rape crime Rate\")\n",
    "#plt.xlabel(\"Year\")\n",
    "#plt.show()"
   ]
  },
  {
   "cell_type": "code",
   "execution_count": 164,
   "metadata": {
    "colab": {
     "base_uri": "https://localhost:8080/",
     "height": 34
    },
    "colab_type": "code",
    "id": "4gfcpffe0dcC",
    "outputId": "9bb7ade0-4d74-4396-d347-b07fe525fe6e"
   },
   "outputs": [
    {
     "data": {
      "text/plain": [
       "(48.56, -96312.39)"
      ]
     },
     "execution_count": 164,
     "metadata": {},
     "output_type": "execute_result"
    }
   ],
   "source": [
    "def slope_intercept(x_val,y_val):\n",
    "  x=np.array(x_val)\n",
    "  y=np.array(y_val)\n",
    "  m=( ( (np.mean(x)*np.mean(y)) - np.mean(x*y) ) /\n",
    "    ((np.mean(x)*np.mean(x))-np.mean(x*x)) )\n",
    "  m=round(m,2)\n",
    "  b=(np.mean(y)-np.mean(x)*m)\n",
    "  b=round(b,2)\n",
    "  \n",
    "  return m,b\n",
    "\n",
    "slope_intercept(xs,ys)"
   ]
  },
  {
   "cell_type": "code",
   "execution_count": 165,
   "metadata": {
    "colab": {
     "base_uri": "https://localhost:8080/",
     "height": 311
    },
    "colab_type": "code",
    "id": "SUKIZTDpQIm9",
    "outputId": "bd2344cf-e681-4dfb-bb47-46512a51223c"
   },
   "outputs": [
    {
     "data": {
      "image/png": "[encoded data removed]",
      "text/plain": [
       "<Figure size 432x288 with 1 Axes>"
      ]
     },
     "metadata": {
      "needs_background": "light"
     },
     "output_type": "display_data"
    }
   ],
   "source": [
    "m,b=slope_intercept(xs,ys)\n",
    "reg_line=[(m*x)+b for x in xs]\n",
    "plt.scatter(xs,ys,color=\"red\")\n",
    "plt.plot(xs,reg_line)\n",
    "plt.ylabel(\"Rape crime rate\")\n",
    "plt.xlabel(\"Year\")\n",
    "plt.title(\"Making a regression line\")\n",
    "plt.savefig('rape_before_pred.png')"
   ]
  },
  {
   "cell_type": "code",
   "execution_count": 166,
   "metadata": {
    "colab": {
     "base_uri": "https://localhost:8080/",
     "height": 51
    },
    "colab_type": "code",
    "id": "w0ToD9QH-NNQ",
    "outputId": "08073b74-90cf-48ae-ab05-a37795a49a01"
   },
   "outputs": [
    {
     "data": {
      "text/plain": [
       "LinearRegression(copy_X=True, fit_intercept=True, n_jobs=None,\n",
       "         normalize=False)"
      ]
     },
     "execution_count": 166,
     "metadata": {},
     "output_type": "execute_result"
    }
   ],
   "source": [
    "#X = df.iloc[:,:-1] \n",
    "#y = df.iloc[:, 1]\n",
    "#from sklearn.model_selection import train_test_split  \n",
    "#X_train, X_test, y_train, y_test = train_test_split(X, y, test_size=0.3, random_state=0) \n",
    "X1 = df.iloc[:, :-7].values  \n",
    "y1 = df.iloc[:, 1].values  \n",
    "from sklearn.model_selection import train_test_split  \n",
    "x1_train, x1_test, y1_train, y11_test = train_test_split(X1, y1, test_size=0.3, random_state=0)  \n",
    "from sklearn.linear_model import LinearRegression\n",
    "regressor = LinearRegression()\n",
    "regressor.fit(x1_train,y1_train)\n",
    "#X = df.iloc[:,:-1] \n",
    "#y = df.iloc[:, 1]\n",
    "#y_pred = regressor.predict(X_test)\n"
   ]
  },
  {
   "cell_type": "code",
   "execution_count": 167,
   "metadata": {
    "colab": {
     "base_uri": "https://localhost:8080/",
     "height": 391
    },
    "colab_type": "code",
    "id": "wQe_TU6Ipm6w",
    "outputId": "a82b3cf5-02f9-478d-a0d1-21aea7fb9b46"
   },
   "outputs": [
    {
     "name": "stdout",
     "output_type": "stream",
     "text": [
      "Regressor intercept: 48.56\n",
      "Regressor coefficient: -96312.39\n"
     ]
    }
   ],
   "source": [
    "print(\"Regressor intercept: \"+str(m) )\n",
    "print(\"Regressor coefficient: \"+str(b) )\n",
    "#y_pred = regressor.predict(X_test)\n",
    "#print(\"Year_train\")\n",
    "#for x in np.nditer(X_train):\n",
    "#  print(x)\n",
    "#print(\"\\n\\nRape_train\")\n",
    "#for x in np.nditer(y_train):\n",
    " # print(x)"
   ]
  },
  {
   "cell_type": "code",
   "execution_count": 168,
   "metadata": {
    "colab": {
     "base_uri": "https://localhost:8080/",
     "height": 340
    },
    "colab_type": "code",
    "id": "q_yUQ--QqX7a",
    "outputId": "479c9bd4-f9a5-4d4b-d99b-5982d116dd85"
   },
   "outputs": [
    {
     "name": "stdout",
     "output_type": "stream",
     "text": [
      "Year\n",
      "2001\n",
      "2002\n",
      "2003\n",
      "2004\n",
      "2005\n",
      "2006\n",
      "2007\n",
      "2008\n",
      "2009\n",
      "2010\n",
      "2011\n",
      "2012\n",
      "\n",
      "\n",
      "Rape values\n",
      "871\n",
      "1002\n",
      "946\n",
      "1016\n",
      "935\n",
      "1049\n",
      "1070\n",
      "1257\n",
      "1188\n",
      "1362\n",
      "1442\n",
      "1341\n"
     ]
    }
   ],
   "source": [
    "#def predict(x):\n",
    " # y_predd=m*float(x)+b\n",
    "  #return y_predd\n",
    "print(\"Year\")\n",
    "for x in np.nditer(xs):\n",
    "  print(x)\n",
    "print(\"\\n\\nRape values\")\n",
    "for x in np.nditer(ys):\n",
    "  print(x)\n",
    "#ypredd=m*X_test+b\n",
    "#print(\"\\n\\nY_Predicted\")\n",
    "#for x in np.nditer(ypredd):\n",
    "#  print(int(x))"
   ]
  },
  {
   "cell_type": "code",
   "execution_count": 169,
   "metadata": {
    "colab": {
     "base_uri": "https://localhost:8080/",
     "height": 362
    },
    "colab_type": "code",
    "id": "ZQc3P94NkqIK",
    "outputId": "d24910f0-42fb-4801-b3f2-85b1219f6968"
   },
   "outputs": [
    {
     "name": "stdout",
     "output_type": "stream",
     "text": [
      "      0\n",
      "0  2013\n",
      "1  2014\n",
      "2  2015\n",
      "3  2016\n",
      "4  2017\n",
      "5  2018\n",
      "1438\n",
      "1487\n",
      "1536\n",
      "1584\n",
      "1633\n",
      "1681\n"
     ]
    }
   ],
   "source": [
    "years = np.array([2013,2014,2015,2016,2017,2018])\n",
    "df1=pd.DataFrame(years)\n",
    "print(df1)\n",
    "ypredd=(m*years+b)\n",
    "for x in np.nditer(ypredd):\n",
    "  print(int(x))"
   ]
  },
  {
   "cell_type": "code",
   "execution_count": 170,
   "metadata": {},
   "outputs": [
    {
     "name": "stdout",
     "output_type": "stream",
     "text": [
      "Years: [2001 2002 2003 2004 2005 2006 2007 2008 2009 2010 2011 2012 2013 2014\n",
      " 2015 2016 2017 2018]\n",
      "Kidnapping: [ 871.   1002.    946.   1016.    935.   1049.   1070.   1257.   1188.\n",
      " 1362.   1442.   1341.   1438.89 1487.45 1536.01 1584.57 1633.13 1681.69]\n"
     ]
    },
    {
     "data": {
      "image/png": "[encoded data removed]",
      "text/plain": [
       "<Figure size 432x288 with 1 Axes>"
      ]
     },
     "metadata": {
      "needs_background": "light"
     },
     "output_type": "display_data"
    }
   ],
   "source": [
    "trmergedlist=np.concatenate((xs, years), axis=0)\n",
    "print(\"Years: \"+str(trmergedlist))\n",
    "#print(\"Rape rate :\"+str(temergedlist))\n",
    "#print(ypredd)\n",
    "\n",
    "#print(temergedlist)\n",
    "#m,b=slope_intercept(trmergedlist,temergedlist)\n",
    "reg_line=[(m*x)+b for x in trmergedlist]\n",
    "temergedlist=np.concatenate((ys,ypredd), axis=0)\n",
    "print(\"Kidnapping: \"+str(temergedlist))\n",
    "plt.scatter(trmergedlist,temergedlist,color=\"red\")\n",
    "plt.plot(trmergedlist,reg_line)\n",
    "plt.xlim((2001,2018))\n",
    "#plt.ylim((800,1900))\n",
    "plt.ylabel(\"Kidnapping crime rate\")\n",
    "plt.xlabel(\"Year\")\n",
    "plt.title(\"Making a regression line\")\n",
    "plt.savefig('rape_after_pred.png')"
   ]
  },
  {
   "cell_type": "code",
   "execution_count": 171,
   "metadata": {
    "colab": {
     "base_uri": "https://localhost:8080/",
     "height": 340
    },
    "colab_type": "code",
    "id": "vU4mpRIpY4qA",
    "outputId": "792e48f2-0aeb-49d9-e869-259f20976cf5"
   },
   "outputs": [],
   "source": [
    "#Kidnapping and Abduction\n",
    "\n",
    "xs1=df.iloc[:,0]\n",
    "ys1=df.iloc[:,2]\n",
    "#from sklearn.model_selection import train_test_split  \n",
    "#X_train1, X_test1, y_train1, y_test1 = train_test_split(xs1, ys1, test_size=0.3, random_state=0) \n",
    "#print(str(X_train1)+\"\\n\\n\"+str(y_train1))\n"
   ]
  },
  {
   "cell_type": "code",
   "execution_count": 172,
   "metadata": {
    "colab": {
     "base_uri": "https://localhost:8080/",
     "height": 279
    },
    "colab_type": "code",
    "id": "bJYMhEQUZSOk",
    "outputId": "1c931717-de6f-4a3f-8cd1-06752ce36c05"
   },
   "outputs": [],
   "source": [
    "#plt.scatter(X_train1,y_train1)\n",
    "#plt.ylabel(\"Kidnapping And Abduction crime Rate\")\n",
    "#plt.xlabel(\"Year\")\n",
    "#plt.show()"
   ]
  },
  {
   "cell_type": "code",
   "execution_count": 173,
   "metadata": {
    "colab": {
     "base_uri": "https://localhost:8080/",
     "height": 34
    },
    "colab_type": "code",
    "id": "7zy6VhylbF7W",
    "outputId": "720e37b0-704a-4da1-bb75-960fb51cbc23"
   },
   "outputs": [
    {
     "data": {
      "text/plain": [
       "(0.52, -996.88)"
      ]
     },
     "execution_count": 173,
     "metadata": {},
     "output_type": "execute_result"
    }
   ],
   "source": [
    "slope_intercept(xs1,ys1)"
   ]
  },
  {
   "cell_type": "code",
   "execution_count": 174,
   "metadata": {
    "colab": {
     "base_uri": "https://localhost:8080/",
     "height": 311
    },
    "colab_type": "code",
    "id": "mdGii5cQZqEh",
    "outputId": "90fb2699-e51a-4b9c-d184-60eb2c99bdcc"
   },
   "outputs": [
    {
     "data": {
      "image/png": "[encoded data removed]",
      "text/plain": [
       "<Figure size 432x288 with 1 Axes>"
      ]
     },
     "metadata": {
      "needs_background": "light"
     },
     "output_type": "display_data"
    }
   ],
   "source": [
    "m1,b1=slope_intercept(xs1,ys1)\n",
    "reg_line=[(m1*x)+b1 for x in xs1]\n",
    "plt.scatter(xs1,ys1,color=\"red\")\n",
    "plt.plot(xs1,reg_line)\n",
    "plt.ylabel(\"Kidnapping and Abduction crime rate\")\n",
    "plt.xlabel(\"Year\")\n",
    "plt.title(\"Making a regression line\")\n",
    "plt.savefig('kidnapping_before_pred.png')"
   ]
  },
  {
   "cell_type": "code",
   "execution_count": 175,
   "metadata": {
    "colab": {
     "base_uri": "https://localhost:8080/",
     "height": 391
    },
    "colab_type": "code",
    "id": "NB0Q2QtKZzqy",
    "outputId": "1c3e9f97-3a9d-4c64-dc5a-1f5a941760f9"
   },
   "outputs": [
    {
     "name": "stdout",
     "output_type": "stream",
     "text": [
      "Regressor intercept: 0.52\n",
      "Regressor coefficient: -996.88\n"
     ]
    }
   ],
   "source": [
    "print(\"Regressor intercept: \"+str(m1) )\n",
    "print(\"Regressor coefficient: \"+str(b1) )\n",
    "#y_pred = regressor.predict(X_test)\n",
    "#print(\"Year_train\")\n",
    "#for x in np.nditer(X_train1):\n",
    "#  print(x)\n",
    "#print(\"\\n\\nKidnapping and Abduction_train\")\n",
    "#for x in np.nditer(y_train1):\n",
    " # print(x)"
   ]
  },
  {
   "cell_type": "code",
   "execution_count": 176,
   "metadata": {
    "colab": {
     "base_uri": "https://localhost:8080/",
     "height": 340
    },
    "colab_type": "code",
    "id": "CbNK-B0-Z36L",
    "outputId": "e88e8838-1caa-4ff9-ae7b-a4c4971246d7"
   },
   "outputs": [
    {
     "name": "stdout",
     "output_type": "stream",
     "text": [
      "Year\n",
      "2001\n",
      "2002\n",
      "2003\n",
      "2004\n",
      "2005\n",
      "2006\n",
      "2007\n",
      "2008\n",
      "2009\n",
      "2010\n",
      "2011\n",
      "2012\n",
      "\n",
      "\n",
      "Kidnapping\n",
      "55\n",
      "38\n",
      "51\n",
      "41\n",
      "39\n",
      "51\n",
      "44\n",
      "47\n",
      "28\n",
      "46\n",
      "60\n",
      "58\n"
     ]
    }
   ],
   "source": [
    "print(\"Year\")\n",
    "for x in np.nditer(xs1):\n",
    "  print(x)\n",
    "print(\"\\n\\nKidnapping\")\n",
    "for x in np.nditer(ys1):\n",
    "  print(x)\n",
    "#ypredd=m1*xs1+b1\n",
    "#print(\"\\n\\nY_Predicted\")\n",
    "#for x in np.nditer(ypredd):\n",
    "#  print(int(x))"
   ]
  },
  {
   "cell_type": "code",
   "execution_count": 177,
   "metadata": {
    "colab": {
     "base_uri": "https://localhost:8080/",
     "height": 345
    },
    "colab_type": "code",
    "id": "da8FsEngsDO-",
    "outputId": "ef7fc6cd-1b01-4ac7-f684-a4b6607627a8"
   },
   "outputs": [],
   "source": [
    "#trmergedlist=np.concatenate((X_train1, X_test1), axis=0)\n",
    "#print(trmergedlist)\n",
    "#temergedlist=np.concatenate((y_train1, ypredd), axis=0)\n",
    "#print(temergedlist)\n",
    "#m,b=slope_intercept(trmergedlist,temergedlist)\n",
    "#reg_line=[(m1*x)+b1 for x in trmergedlist]\n",
    "#plt.scatter(trmergedlist,temergedlist,color=\"red\")\n",
    "#plt.plot(trmergedlist,reg_line)\n",
    "#plt.ylabel(\"Kidnapping and abduction crime rate\")\n",
    "#plt.xlabel(\"Year\")\n",
    "#plt.title(\"Making a regression line\")\n",
    "#plt.savefig('kidnapping_after_pred.png')"
   ]
  },
  {
   "cell_type": "code",
   "execution_count": 178,
   "metadata": {
    "colab": {
     "base_uri": "https://localhost:8080/",
     "height": 51
    },
    "colab_type": "code",
    "id": "zl29oC9fqfQD",
    "outputId": "b57f3478-8d08-450c-cd31-a1397654accd"
   },
   "outputs": [
    {
     "name": "stdout",
     "output_type": "stream",
     "text": [
      "      0\n",
      "0  2013\n",
      "1  2014\n",
      "2  2015\n",
      "3  2016\n",
      "4  2017\n",
      "5  2018\n",
      "49\n",
      "50\n",
      "50\n",
      "51\n",
      "51\n",
      "52\n"
     ]
    }
   ],
   "source": [
    "years = np.array([2013,2014,2015,2016,2017,2018])\n",
    "df1=pd.DataFrame(years)\n",
    "print(df1)\n",
    "ypredd=(m1*years+b1)\n",
    "for x in np.nditer(ypredd):\n",
    "  print(int(x))"
   ]
  },
  {
   "cell_type": "code",
   "execution_count": 179,
   "metadata": {},
   "outputs": [
    {
     "name": "stdout",
     "output_type": "stream",
     "text": [
      "Years: [2001 2002 2003 2004 2005 2006 2007 2008 2009 2010 2011 2012 2013 2014\n",
      " 2015 2016 2017 2018]\n",
      "Kidnapping: [55.   38.   51.   41.   39.   51.   44.   47.   28.   46.   60.   58.\n",
      " 49.88 50.4  50.92 51.44 51.96 52.48]\n"
     ]
    },
    {
     "data": {
      "image/png": "[encoded data removed]",
      "text/plain": [
       "<Figure size 432x288 with 1 Axes>"
      ]
     },
     "metadata": {
      "needs_background": "light"
     },
     "output_type": "display_data"
    }
   ],
   "source": [
    "trmergedlist1=np.concatenate((xs1, years), axis=0)\n",
    "print(\"Years: \"+str(trmergedlist1))\n",
    "#print(\"Rape rate :\"+str(temergedlist))\n",
    "#print(ypredd)\n",
    "\n",
    "#print(temergedlist)\n",
    "#m,b=slope_intercept(trmergedlist,temergedlist)\n",
    "reg_line=[(m1*x)+b1 for x in trmergedlist1]\n",
    "temergedlist1=np.concatenate((ys1,ypredd), axis=0)\n",
    "print(\"Kidnapping: \"+str(temergedlist1))\n",
    "plt.scatter(trmergedlist1,temergedlist1,color=\"red\")\n",
    "plt.plot(trmergedlist1,reg_line)\n",
    "plt.xlim((2001,2018))\n",
    "#plt.ylim((800,1900))\n",
    "plt.ylabel(\"Kidnapping crime rate\")\n",
    "plt.xlabel(\"Year\")\n",
    "plt.title(\"Making a regression line\")\n",
    "plt.savefig('kidnapping_after_pred.png')"
   ]
  },
  {
   "cell_type": "code",
   "execution_count": 180,
   "metadata": {
    "colab": {
     "base_uri": "https://localhost:8080/",
     "height": 340
    },
    "colab_type": "code",
    "id": "rwiwiYMu1Ugw",
    "outputId": "81a27688-b32a-4634-b0dd-ec9855de0b34"
   },
   "outputs": [],
   "source": [
    "#Dowry Deaths\n",
    "\n",
    "xs2=df.iloc[:,0]\n",
    "ys2=df.iloc[:,3]\n",
    "#from sklearn.model_selection import train_test_split  \n",
    "#X_train2, X_test2, y_train2, y_test2 = train_test_split(xs2, ys2, test_size=0.3, random_state=0) \n",
    "#print(str(X_train2)+\"\\n\\n\"+str(y_train2))\n"
   ]
  },
  {
   "cell_type": "code",
   "execution_count": 181,
   "metadata": {
    "colab": {
     "base_uri": "https://localhost:8080/",
     "height": 279
    },
    "colab_type": "code",
    "id": "A1NhltQY18CB",
    "outputId": "c7aff021-d8f4-4446-d42a-62e363ecb0d5"
   },
   "outputs": [],
   "source": [
    "#plt.scatter(X_train2,y_train2)\n",
    "#plt.ylabel(\"Dowry Deaths\")\n",
    "#plt.xlabel(\"Year\")\n",
    "#plt.show()"
   ]
  },
  {
   "cell_type": "code",
   "execution_count": 182,
   "metadata": {
    "colab": {
     "base_uri": "https://localhost:8080/",
     "height": 34
    },
    "colab_type": "code",
    "id": "xRJZ5iYF3lRg",
    "outputId": "1b55af33-78a9-4051-f0b2-e2bd4f289604"
   },
   "outputs": [
    {
     "data": {
      "text/plain": [
       "(13.05, -25666.91)"
      ]
     },
     "execution_count": 182,
     "metadata": {},
     "output_type": "execute_result"
    }
   ],
   "source": [
    "slope_intercept(xs2,ys2)"
   ]
  },
  {
   "cell_type": "code",
   "execution_count": 183,
   "metadata": {
    "colab": {
     "base_uri": "https://localhost:8080/",
     "height": 311
    },
    "colab_type": "code",
    "id": "bxuqzVkt3EO0",
    "outputId": "b89c663d-36e1-4d90-de98-26a9c6398a5e"
   },
   "outputs": [
    {
     "data": {
      "image/png": "[encoded data removed]",
      "text/plain": [
       "<Figure size 432x288 with 1 Axes>"
      ]
     },
     "metadata": {
      "needs_background": "light"
     },
     "output_type": "display_data"
    }
   ],
   "source": [
    "m2,b2=slope_intercept(xs2,ys2)\n",
    "reg_line=[(m2*x)+b2 for x in xs2]\n",
    "plt.scatter(xs2,ys2,color=\"red\")\n",
    "plt.plot(xs2,reg_line)\n",
    "plt.ylabel(\"Dowry Deaths crime rate\")\n",
    "plt.xlabel(\"Year\")\n",
    "plt.title(\"Making a regression line\")\n",
    "plt.savefig('dowry_before_pred.png')"
   ]
  },
  {
   "cell_type": "code",
   "execution_count": 184,
   "metadata": {
    "colab": {
     "base_uri": "https://localhost:8080/",
     "height": 391
    },
    "colab_type": "code",
    "id": "0ssXwsJA3d_Q",
    "outputId": "0cd2934f-6cdd-4400-e71d-95878de3fcbd"
   },
   "outputs": [
    {
     "name": "stdout",
     "output_type": "stream",
     "text": [
      "Regressor intercept: 13.05\n",
      "Regressor coefficient: -25666.91\n"
     ]
    }
   ],
   "source": [
    "print(\"Regressor intercept: \"+str(m2) )\n",
    "print(\"Regressor coefficient: \"+str(b2) )\n",
    "#y_pred = regressor.predict(X_test)\n",
    "#print(\"Year_train\")\n",
    "#for x in np.nditer(X_train2):\n",
    "#  print(x)\n",
    "#print(\"\\n\\nDowry Deaths_train\")\n",
    "#for x in np.nditer(y_train2):\n",
    "#  print(x)"
   ]
  },
  {
   "cell_type": "code",
   "execution_count": 185,
   "metadata": {
    "colab": {
     "base_uri": "https://localhost:8080/",
     "height": 340
    },
    "colab_type": "code",
    "id": "y94QU7o_3eLw",
    "outputId": "51c623d1-0f54-4783-c163-190ee530be1f"
   },
   "outputs": [
    {
     "name": "stdout",
     "output_type": "stream",
     "text": [
      "Year\n",
      "2001\n",
      "2002\n",
      "2003\n",
      "2004\n",
      "2005\n",
      "2006\n",
      "2007\n",
      "2008\n",
      "2009\n",
      "2010\n",
      "2011\n",
      "2012\n",
      "\n",
      "\n",
      "Dowry Deaths\n",
      "420\n",
      "449\n",
      "466\n",
      "512\n",
      "443\n",
      "519\n",
      "613\n",
      "556\n",
      "546\n",
      "588\n",
      "599\n",
      "504\n"
     ]
    }
   ],
   "source": [
    "print(\"Year\")\n",
    "for x in np.nditer(xs2):\n",
    "  print(x)\n",
    "print(\"\\n\\nDowry Deaths\")\n",
    "for x in np.nditer(ys2):\n",
    "  print(x)\n",
    "#ypredd=m2*xs2+b2\n",
    "#print(\"\\n\\nY_Predicted\")\n",
    "#for x in np.nditer(ypredd):\n",
    "#  print(int(x))"
   ]
  },
  {
   "cell_type": "code",
   "execution_count": 186,
   "metadata": {
    "colab": {
     "base_uri": "https://localhost:8080/",
     "height": 362
    },
    "colab_type": "code",
    "id": "oVHNxKYCuZ2H",
    "outputId": "c4e5cba5-850b-45d0-abc8-5df9864a49e0"
   },
   "outputs": [],
   "source": [
    "#trmergedlist=np.concatenate((X_train2, X_test2), axis=0)\n",
    "#print(trmergedlist)\n",
    "#temergedlist=np.concatenate((y_train2, ypredd), axis=0)\n",
    "#print(temergedlist)\n",
    "#m,b=slope_intercept(trmergedlist,temergedlist)\n",
    "#reg_line=[(m2*x)+b2 for x in trmergedlist]\n",
    "#plt.scatter(trmergedlist,temergedlist,color=\"red\")\n",
    "#plt.plot(trmergedlist,reg_line)\n",
    "#plt.ylabel(\"Dowry Deaths crime rate\")\n",
    "#plt.xlabel(\"Year\")\n",
    "#plt.title(\"Making a regression line\")\n",
    "#plt.savefig('dowry_after_pred.png')"
   ]
  },
  {
   "cell_type": "code",
   "execution_count": 187,
   "metadata": {
    "colab": {
     "base_uri": "https://localhost:8080/",
     "height": 51
    },
    "colab_type": "code",
    "id": "zVAjaj2r3eOp",
    "outputId": "594d92e3-fbfa-4fee-e422-f7b147cb84b4"
   },
   "outputs": [
    {
     "name": "stdout",
     "output_type": "stream",
     "text": [
      "      0\n",
      "0  2013\n",
      "1  2014\n",
      "2  2015\n",
      "3  2016\n",
      "4  2017\n",
      "5  2018\n",
      "602\n",
      "615\n",
      "628\n",
      "641\n",
      "654\n",
      "667\n"
     ]
    }
   ],
   "source": [
    "years = np.array([2013,2014,2015,2016,2017,2018])\n",
    "df1=pd.DataFrame(years)\n",
    "print(df1)\n",
    "ypredd=(m2*years+b2)\n",
    "for x in np.nditer(ypredd):\n",
    "  print(int(x))"
   ]
  },
  {
   "cell_type": "code",
   "execution_count": 188,
   "metadata": {},
   "outputs": [
    {
     "name": "stdout",
     "output_type": "stream",
     "text": [
      "Years: [2001 2002 2003 2004 2005 2006 2007 2008 2009 2010 2011 2012 2013 2014\n",
      " 2015 2016 2017 2018]\n",
      "Dowry Deaths: [420.   449.   466.   512.   443.   519.   613.   556.   546.   588.\n",
      " 599.   504.   602.74 615.79 628.84 641.89 654.94 667.99]\n"
     ]
    },
    {
     "data": {
      "image/png": "[encoded data removed]",
      "text/plain": [
       "<Figure size 432x288 with 1 Axes>"
      ]
     },
     "metadata": {
      "needs_background": "light"
     },
     "output_type": "display_data"
    }
   ],
   "source": [
    "trmergedlist2=np.concatenate((xs2, years), axis=0)\n",
    "print(\"Years: \"+str(trmergedlist2))\n",
    "#print(\"Rape rate :\"+str(temergedlist))\n",
    "#print(ypredd)\n",
    "\n",
    "#print(temergedlist)\n",
    "#m,b=slope_intercept(trmergedlist,temergedlist)\n",
    "reg_line=[(m2*x)+b2 for x in trmergedlist2]\n",
    "temergedlist2=np.concatenate((ys2,ypredd), axis=0)\n",
    "print(\"Dowry Deaths: \"+str(temergedlist2))\n",
    "plt.scatter(trmergedlist2,temergedlist2,color=\"red\")\n",
    "plt.plot(trmergedlist2,reg_line)\n",
    "plt.xlim((2001,2018))\n",
    "#plt.ylim((800,1900))\n",
    "plt.ylabel(\"Dowry Deaths crime rate\")\n",
    "plt.xlabel(\"Year\")\n",
    "plt.title(\"Making a regression line\")\n",
    "plt.savefig('dowry_after_pred.png')"
   ]
  },
  {
   "cell_type": "code",
   "execution_count": 189,
   "metadata": {
    "colab": {
     "base_uri": "https://localhost:8080/",
     "height": 340
    },
    "colab_type": "code",
    "id": "rB1HVv543eT5",
    "outputId": "a0ff6857-3c8b-4bf2-c833-1c626174e650"
   },
   "outputs": [],
   "source": [
    "#Assault on women with intent to outrage her modesty\n",
    "\n",
    "xs3=df.iloc[:,0]\n",
    "ys3=df.iloc[:,4]\n",
    "#from sklearn.model_selection import train_test_split  \n",
    "#X_train3, X_test3, y_train3, y_test3 = train_test_split(xs3, ys3, test_size=0.3, random_state=0) \n",
    "#print(str(X_train3)+\"\\n\\n\"+str(y_train3))\n"
   ]
  },
  {
   "cell_type": "code",
   "execution_count": 190,
   "metadata": {
    "colab": {
     "base_uri": "https://localhost:8080/",
     "height": 300
    },
    "colab_type": "code",
    "id": "B0kfVq8E62yy",
    "outputId": "f20b6263-9075-400f-86c8-09e5cb9945d8"
   },
   "outputs": [],
   "source": [
    "#plt.scatter(X_train3,y_train3)\n",
    "#plt.ylabel(\"Assault on women with intent to outrage her modesty\")\n",
    "#plt.xlabel(\"Year\")\n",
    "#plt.show()\n"
   ]
  },
  {
   "cell_type": "code",
   "execution_count": 191,
   "metadata": {
    "colab": {
     "base_uri": "https://localhost:8080/",
     "height": 34
    },
    "colab_type": "code",
    "id": "bFHTJve13eSC",
    "outputId": "eb02fdf9-ca5e-4e14-8660-db9103b21c5c"
   },
   "outputs": [
    {
     "data": {
      "text/plain": [
       "(129.06, -254625.64)"
      ]
     },
     "execution_count": 191,
     "metadata": {},
     "output_type": "execute_result"
    }
   ],
   "source": [
    "slope_intercept(xs3,ys3)"
   ]
  },
  {
   "cell_type": "code",
   "execution_count": 192,
   "metadata": {
    "colab": {
     "base_uri": "https://localhost:8080/",
     "height": 360
    },
    "colab_type": "code",
    "id": "aAvdencH72bO",
    "outputId": "8b87c311-05b9-4627-af20-fdf0a9241ea1"
   },
   "outputs": [
    {
     "data": {
      "image/png": "[encoded data removed]",
      "text/plain": [
       "<Figure size 432x288 with 1 Axes>"
      ]
     },
     "metadata": {
      "needs_background": "light"
     },
     "output_type": "display_data"
    }
   ],
   "source": [
    "m3,b3=slope_intercept(xs3,ys3)\n",
    "reg_line=[(m3*x)+b3 for x in xs3]\n",
    "plt.scatter(xs3,ys3,color=\"red\")\n",
    "plt.plot(xs3,reg_line)\n",
    "plt.ylabel(\"Assault on women with intent to outrage her modesty crime rate\")\n",
    "plt.xlabel(\"Year\")\n",
    "plt.title(\"Making a regression line\")\n",
    "plt.savefig('assaultonwomen_before_pred.png')"
   ]
  },
  {
   "cell_type": "code",
   "execution_count": 193,
   "metadata": {
    "colab": {
     "base_uri": "https://localhost:8080/",
     "height": 391
    },
    "colab_type": "code",
    "id": "ERFFln6m7-4c",
    "outputId": "f897dd25-84f8-4839-b42f-2c55bcd84a18"
   },
   "outputs": [
    {
     "name": "stdout",
     "output_type": "stream",
     "text": [
      "Regressor intercept: 129.06\n",
      "Regressor coefficient: -254625.64\n"
     ]
    }
   ],
   "source": [
    "print(\"Regressor intercept: \"+str(m3) )\n",
    "print(\"Regressor coefficient: \"+str(b3) )\n",
    "#y_pred = regressor.predict(X_test)\n",
    "#print(\"Year_train\")\n",
    "#for x in np.nditer(X_train3):\n",
    "#  print(x)\n",
    "#print(\"\\n\\nAssault on women with intent to outrage her modesty_train\")\n",
    "#for x in np.nditer(y_train3):\n",
    "#  print(x)\n"
   ]
  },
  {
   "cell_type": "code",
   "execution_count": 194,
   "metadata": {
    "colab": {
     "base_uri": "https://localhost:8080/",
     "height": 340
    },
    "colab_type": "code",
    "id": "Qs0DZH2M7--a",
    "outputId": "39023028-3ee4-41a4-ce43-0e2038d547c4"
   },
   "outputs": [
    {
     "name": "stdout",
     "output_type": "stream",
     "text": [
      "Year\n",
      "2001\n",
      "2002\n",
      "2003\n",
      "2004\n",
      "2005\n",
      "2006\n",
      "2007\n",
      "2008\n",
      "2009\n",
      "2010\n",
      "2011\n",
      "2012\n",
      "\n",
      "\n",
      "Assault on women with intent to outrage her modesty\n",
      "3544\n",
      "3799\n",
      "4128\n",
      "3817\n",
      "3595\n",
      "4534\n",
      "4406\n",
      "4730\n",
      "5147\n",
      "4634\n",
      "4849\n",
      "4816\n"
     ]
    }
   ],
   "source": [
    "print(\"Year\")\n",
    "for x in np.nditer(xs3):\n",
    "  print(x)\n",
    "print(\"\\n\\nAssault on women with intent to outrage her modesty\")\n",
    "for x in np.nditer(ys3):\n",
    "  print(x)\n",
    "#ypredd=m3*X_test3+b3\n",
    "#print(\"\\n\\nY_Predicted\")\n",
    "#for x in np.nditer(ypredd):\n",
    "#  print(int(x))\n"
   ]
  },
  {
   "cell_type": "code",
   "execution_count": 195,
   "metadata": {
    "colab": {
     "base_uri": "https://localhost:8080/",
     "height": 411
    },
    "colab_type": "code",
    "id": "Twt8Q6kZu2XB",
    "outputId": "5ae2921c-03a5-49d0-fcc5-34715078df0d"
   },
   "outputs": [],
   "source": [
    "#trmergedlist=np.concatenate((X_train3, X_test3), axis=0)\n",
    "#print(trmergedlist)\n",
    "#temergedlist=np.concatenate((y_train3, ypredd), axis=0)\n",
    "#print(temergedlist)\n",
    "#m,b=slope_intercept(trmergedlist,temergedlist)\n",
    "#reg_line=[(m3*x)+b3 for x in trmergedlist]\n",
    "#plt.scatter(trmergedlist,temergedlist,color=\"red\")\n",
    "#plt.plot(trmergedlist,reg_line)\n",
    "#plt.ylabel(\"Assault on women with intent to outrage her modesty crime rate\")\n",
    "#plt.xlabel(\"Year\")\n",
    "#plt.title(\"Making a regression line\")\n",
    "#plt.savefig('assaultonwomen_after_pred.png')"
   ]
  },
  {
   "cell_type": "code",
   "execution_count": 196,
   "metadata": {
    "colab": {
     "base_uri": "https://localhost:8080/",
     "height": 51
    },
    "colab_type": "code",
    "id": "dPMBJ7be7_En",
    "outputId": "9d80c2ed-5c9d-4b21-d6a9-f17124e56321"
   },
   "outputs": [
    {
     "name": "stdout",
     "output_type": "stream",
     "text": [
      "      0\n",
      "0  2013\n",
      "1  2014\n",
      "2  2015\n",
      "3  2016\n",
      "4  2017\n",
      "5  2018\n",
      "5172\n",
      "5301\n",
      "5430\n",
      "5559\n",
      "5688\n",
      "5817\n"
     ]
    }
   ],
   "source": [
    "years = np.array([2013,2014,2015,2016,2017,2018])\n",
    "df1=pd.DataFrame(years)\n",
    "print(df1)\n",
    "ypredd=(m3*years+b3)\n",
    "for x in np.nditer(ypredd):\n",
    "  print(int(x))"
   ]
  },
  {
   "cell_type": "code",
   "execution_count": 197,
   "metadata": {},
   "outputs": [
    {
     "name": "stdout",
     "output_type": "stream",
     "text": [
      "Years: [2001 2002 2003 2004 2005 2006 2007 2008 2009 2010 2011 2012 2013 2014\n",
      " 2015 2016 2017 2018]\n",
      "Kidnapping: [3544.   3799.   4128.   3817.   3595.   4534.   4406.   4730.   5147.\n",
      " 4634.   4849.   4816.   5172.14 5301.2  5430.26 5559.32 5688.38 5817.44]\n"
     ]
    },
    {
     "data": {
      "image/png": "[encoded data removed]",
      "text/plain": [
       "<Figure size 432x288 with 1 Axes>"
      ]
     },
     "metadata": {
      "needs_background": "light"
     },
     "output_type": "display_data"
    }
   ],
   "source": [
    "trmergedlist3=np.concatenate((xs3, years), axis=0)\n",
    "print(\"Years: \"+str(trmergedlist3))\n",
    "#print(\"Rape rate :\"+str(temergedlist))\n",
    "#print(ypredd)\n",
    "\n",
    "#print(temergedlist)\n",
    "#m,b=slope_intercept(trmergedlist,temergedlist)\n",
    "reg_line=[(m3*x)+b3 for x in trmergedlist3]\n",
    "temergedlist3=np.concatenate((ys3,ypredd), axis=0)\n",
    "print(\"Kidnapping: \"+str(temergedlist3))\n",
    "plt.scatter(trmergedlist3,temergedlist3,color=\"red\")\n",
    "plt.plot(trmergedlist3,reg_line)\n",
    "plt.xlim((2001,2018))\n",
    "#plt.ylim((800,1900))\n",
    "plt.ylabel(\"Assault on women with intent to outrage her modesty crime rate\")\n",
    "plt.xlabel(\"Year\")\n",
    "plt.title(\"Making a regression line\")\n",
    "plt.savefig('assaultonwomen_after_pred.png')"
   ]
  },
  {
   "cell_type": "code",
   "execution_count": 198,
   "metadata": {
    "colab": {
     "base_uri": "https://localhost:8080/",
     "height": 340
    },
    "colab_type": "code",
    "id": "VFnigvP57_CO",
    "outputId": "0275f9a2-1239-4661-d1d8-6c90ddaab70e"
   },
   "outputs": [],
   "source": [
    "#Insult to modesty of Women\n",
    "\n",
    "xs4=df.iloc[:,0]\n",
    "ys4=df.iloc[:,5]\n",
    "#from sklearn.model_selection import train_test_split  \n",
    "#X_train4, X_test4, y_train4, y_test4 = train_test_split(xs4, ys4, test_size=0.3, random_state=0) \n",
    "#print(str(X_train4)+\"\\n\\n\"+str(y_train4))\n"
   ]
  },
  {
   "cell_type": "code",
   "execution_count": 199,
   "metadata": {
    "colab": {
     "base_uri": "https://localhost:8080/",
     "height": 279
    },
    "colab_type": "code",
    "id": "uwUnZ6Cu7-7d",
    "outputId": "aec4e2d2-acef-42e0-c6b6-e70e8531bf57"
   },
   "outputs": [],
   "source": [
    "#plt.scatter(X_train4,y_train4)\n",
    "#plt.ylabel(\"Insult to modesty of Women \")\n",
    "#plt.xlabel(\"Year\")\n",
    "#plt.show()\n"
   ]
  },
  {
   "cell_type": "code",
   "execution_count": 200,
   "metadata": {
    "colab": {
     "base_uri": "https://localhost:8080/",
     "height": 34
    },
    "colab_type": "code",
    "id": "nQPNBLWh9vF9",
    "outputId": "bfda2051-89ab-4346-a1cb-33604df3c890"
   },
   "outputs": [
    {
     "data": {
      "text/plain": [
       "(197.88, -394035.3)"
      ]
     },
     "execution_count": 200,
     "metadata": {},
     "output_type": "execute_result"
    }
   ],
   "source": [
    "slope_intercept(xs4,ys4)"
   ]
  },
  {
   "cell_type": "code",
   "execution_count": 201,
   "metadata": {
    "colab": {
     "base_uri": "https://localhost:8080/",
     "height": 311
    },
    "colab_type": "code",
    "id": "z7tpPhYl9zf1",
    "outputId": "af540bd1-dca2-47ac-f835-c3d64fbda8a0"
   },
   "outputs": [
    {
     "data": {
      "image/png": "[encoded data removed]",
      "text/plain": [
       "<Figure size 432x288 with 1 Axes>"
      ]
     },
     "metadata": {
      "needs_background": "light"
     },
     "output_type": "display_data"
    }
   ],
   "source": [
    "m4,b4=slope_intercept(xs4,ys4)\n",
    "reg_line=[(m4*x)+b4 for x in xs4]\n",
    "plt.scatter(xs4,ys4,color=\"red\")\n",
    "plt.plot(xs4,reg_line)\n",
    "plt.ylabel(\"Insult to modesty of Women crime rate\")\n",
    "plt.xlabel(\"Year\")\n",
    "plt.title(\"Making a regression line\")\n",
    "plt.savefig('insulttomodesty_before_pred.png')"
   ]
  },
  {
   "cell_type": "code",
   "execution_count": 202,
   "metadata": {
    "colab": {
     "base_uri": "https://localhost:8080/",
     "height": 391
    },
    "colab_type": "code",
    "id": "7_s-vHxf93SA",
    "outputId": "d47c5afa-1eed-4cc4-dd2b-f7f14f619e49"
   },
   "outputs": [
    {
     "name": "stdout",
     "output_type": "stream",
     "text": [
      "Regressor intercept: 197.88\n",
      "Regressor coefficient: -394035.3\n"
     ]
    }
   ],
   "source": [
    "print(\"Regressor intercept: \"+str(m4) )\n",
    "print(\"Regressor coefficient: \"+str(b4) )\n",
    "#y_pred = regressor.predict(X_test)\n",
    "#print(\"Year_train\")\n",
    "#for x in np.nditer(X_train4):\n",
    "#  print(x)\n",
    "#print(\"\\n\\nInsult to modesty of Women_train\")\n",
    "#for x in np.nditer(y_train4):\n",
    "#  print(x)\n"
   ]
  },
  {
   "cell_type": "code",
   "execution_count": 203,
   "metadata": {
    "colab": {
     "base_uri": "https://localhost:8080/",
     "height": 340
    },
    "colab_type": "code",
    "id": "z2mIG2RU97J2",
    "outputId": "cfb1d11b-760c-4f2b-e8cd-a40031d741bf"
   },
   "outputs": [
    {
     "name": "stdout",
     "output_type": "stream",
     "text": [
      "Year\n",
      "2001\n",
      "2002\n",
      "2003\n",
      "2004\n",
      "2005\n",
      "2006\n",
      "2007\n",
      "2008\n",
      "2009\n",
      "2010\n",
      "2011\n",
      "2012\n",
      "\n",
      "\n",
      "Insult to modesty of Women\n",
      "2271\n",
      "2024\n",
      "2286\n",
      "2310\n",
      "2508\n",
      "2411\n",
      "3316\n",
      "3551\n",
      "3520\n",
      "4562\n",
      "3658\n",
      "3714\n"
     ]
    }
   ],
   "source": [
    "print(\"Year\")\n",
    "for x in np.nditer(xs4):\n",
    "  print(x)\n",
    "print(\"\\n\\nInsult to modesty of Women\")\n",
    "for x in np.nditer(ys4):\n",
    "  print(x)\n",
    "#ypredd=m4*X_test4+b4\n",
    "#print(\"\\n\\nY_Predicted\")\n",
    "#for x in np.nditer(ypredd):\n",
    "#  print(int(x))\n"
   ]
  },
  {
   "cell_type": "code",
   "execution_count": 204,
   "metadata": {
    "colab": {
     "base_uri": "https://localhost:8080/",
     "height": 362
    },
    "colab_type": "code",
    "id": "uHKwabTqvSih",
    "outputId": "b8c3c612-3655-40f2-e5de-18eeaf0aed5b"
   },
   "outputs": [],
   "source": [
    "#trmergedlist=np.concatenate((X_train4, X_test4), axis=0)\n",
    "#print(trmergedlist)\n",
    "#temergedlist=np.concatenate((y_train4, ypredd), axis=0)\n",
    "#print(temergedlist)\n",
    "#m,b=slope_intercept(trmergedlist,temergedlist)\n",
    "#reg_line=[(m4*x)+b4 for x in trmergedlist]\n",
    "#plt.scatter(trmergedlist,temergedlist,color=\"red\")\n",
    "#plt.plot(trmergedlist,reg_line)\n",
    "#plt.ylabel(\"Insult to modesty of Women crime rate\")\n",
    "#plt.xlabel(\"Year\")\n",
    "#plt.title(\"Making a regression line\")\n",
    "#plt.savefig('insulttomodesty_after_pred.png')"
   ]
  },
  {
   "cell_type": "code",
   "execution_count": 205,
   "metadata": {
    "colab": {
     "base_uri": "https://localhost:8080/",
     "height": 51
    },
    "colab_type": "code",
    "id": "Ujkrefdp992j",
    "outputId": "e41e0867-0b77-4eef-aeda-fb1f749410ee"
   },
   "outputs": [
    {
     "name": "stdout",
     "output_type": "stream",
     "text": [
      "      0\n",
      "0  2013\n",
      "1  2014\n",
      "2  2015\n",
      "3  2016\n",
      "4  2017\n",
      "5  2018\n",
      "4297\n",
      "4495\n",
      "4692\n",
      "4890\n",
      "5088\n",
      "5286\n"
     ]
    }
   ],
   "source": [
    "years = np.array([2013,2014,2015,2016,2017,2018])\n",
    "df1=pd.DataFrame(years)\n",
    "print(df1)\n",
    "ypredd=(m4*years+b4)\n",
    "for x in np.nditer(ypredd):\n",
    "  print(int(x))\n"
   ]
  },
  {
   "cell_type": "code",
   "execution_count": 206,
   "metadata": {},
   "outputs": [
    {
     "name": "stdout",
     "output_type": "stream",
     "text": [
      "Years: [2001 2002 2003 2004 2005 2006 2007 2008 2009 2010 2011 2012 2013 2014\n",
      " 2015 2016 2017 2018]\n",
      "Kidnapping: [2271.   2024.   2286.   2310.   2508.   2411.   3316.   3551.   3520.\n",
      " 4562.   3658.   3714.   4297.14 4495.02 4692.9  4890.78 5088.66 5286.54]\n"
     ]
    },
    {
     "data": {
      "image/png": "[encoded data removed]",
      "text/plain": [
       "<Figure size 432x288 with 1 Axes>"
      ]
     },
     "metadata": {
      "needs_background": "light"
     },
     "output_type": "display_data"
    }
   ],
   "source": [
    "trmergedlist4=np.concatenate((xs4, years), axis=0)\n",
    "print(\"Years: \"+str(trmergedlist4))\n",
    "#print(\"Rape rate :\"+str(temergedlist))\n",
    "#print(ypredd)\n",
    "\n",
    "#print(temergedlist)\n",
    "#m,b=slope_intercept(trmergedlist,temergedlist)\n",
    "reg_line=[(m4*x)+b4 for x in trmergedlist4]\n",
    "temergedlist4=np.concatenate((ys4,ypredd), axis=0)\n",
    "print(\"Kidnapping: \"+str(temergedlist4))\n",
    "plt.scatter(trmergedlist4,temergedlist4,color=\"red\")\n",
    "plt.plot(trmergedlist4,reg_line)\n",
    "plt.xlim((2001,2018))\n",
    "#plt.ylim((800,1900))\n",
    "plt.ylabel(\"Insult to modesty of Women crime rate\")\n",
    "plt.xlabel(\"Year\")\n",
    "plt.title(\"Making a regression line\")\n",
    "plt.savefig('insult_after_pred.png')"
   ]
  },
  {
   "cell_type": "code",
   "execution_count": 207,
   "metadata": {
    "colab": {
     "base_uri": "https://localhost:8080/",
     "height": 340
    },
    "colab_type": "code",
    "id": "Zen6g5DU-Yyq",
    "outputId": "16ae5f9b-be1b-47a0-f9c2-b72e65e18c21"
   },
   "outputs": [],
   "source": [
    "#Cruelty by Husband or his Relatives\n",
    "\n",
    "xs5=df.iloc[:,0]\n",
    "ys5=df.iloc[:,6]\n",
    "#from sklearn.model_selection import train_test_split  \n",
    "#X_train5, X_test5, y_train5, y_test5 = train_test_split(xs5, ys5, test_size=0.3, random_state=0) \n",
    "#print(str(X_train5)+\"\\n\\n\"+str(y_train5))\n"
   ]
  },
  {
   "cell_type": "code",
   "execution_count": 208,
   "metadata": {
    "colab": {
     "base_uri": "https://localhost:8080/",
     "height": 279
    },
    "colab_type": "code",
    "id": "TigvH774-ZAi",
    "outputId": "3eecb46f-9542-436b-97c0-7072f23c8710"
   },
   "outputs": [],
   "source": [
    "#plt.scatter(xs5,ys5)\n",
    "#plt.ylabel(\"Cruelty by Husband or his Relatives \")\n",
    "#plt.xlabel(\"Year\")\n",
    "#plt.show()\n"
   ]
  },
  {
   "cell_type": "code",
   "execution_count": 209,
   "metadata": {
    "colab": {
     "base_uri": "https://localhost:8080/",
     "height": 34
    },
    "colab_type": "code",
    "id": "Arlx_0_q-ZHh",
    "outputId": "2f6c91c1-1fe2-4c7f-8eff-4133116c910f"
   },
   "outputs": [
    {
     "data": {
      "text/plain": [
       "(0.91, -1812.0)"
      ]
     },
     "execution_count": 209,
     "metadata": {},
     "output_type": "execute_result"
    }
   ],
   "source": [
    "slope_intercept(xs5,ys5)"
   ]
  },
  {
   "cell_type": "code",
   "execution_count": 210,
   "metadata": {
    "colab": {
     "base_uri": "https://localhost:8080/",
     "height": 311
    },
    "colab_type": "code",
    "id": "lTjJ1BF7-ZNq",
    "outputId": "795f6d7e-60a3-411e-c7d6-c57567517cb8"
   },
   "outputs": [
    {
     "data": {
      "image/png": "[encoded data removed]",
      "text/plain": [
       "<Figure size 432x288 with 1 Axes>"
      ]
     },
     "metadata": {
      "needs_background": "light"
     },
     "output_type": "display_data"
    }
   ],
   "source": [
    "m5,b5=slope_intercept(xs5,ys5)\n",
    "reg_line=[(m5*x)+b5 for x in xs5]\n",
    "plt.scatter(xs5,ys5,color=\"red\")\n",
    "plt.plot(xs5,reg_line)\n",
    "plt.ylabel(\"Cruelty by Husband or his Relatives crime rate\")\n",
    "plt.xlabel(\"Year\")\n",
    "plt.title(\"Making a regression line\")\n",
    "plt.savefig('creultybyhusband_before_pred.png')"
   ]
  },
  {
   "cell_type": "code",
   "execution_count": 211,
   "metadata": {
    "colab": {
     "base_uri": "https://localhost:8080/",
     "height": 391
    },
    "colab_type": "code",
    "id": "UwY_x65X-ZU7",
    "outputId": "180ba65d-81cd-417e-e7b3-795e81515886"
   },
   "outputs": [
    {
     "name": "stdout",
     "output_type": "stream",
     "text": [
      "Regressor intercept: 0.91\n",
      "Regressor coefficient: -1812.0\n"
     ]
    }
   ],
   "source": [
    "print(\"Regressor intercept: \"+str(m5) )\n",
    "print(\"Regressor coefficient: \"+str(b5) )\n",
    "#y_pred = regressor.predict(X_test)\n",
    "#print(\"Year_train\")\n",
    "#for x in np.nditer(X_train5):\n",
    "#  print(x)\n",
    "#print(\"\\n\\nCruelty by Husband or his Relatives_train\")\n",
    "#for x in np.nditer(y_train5):\n",
    "#  print(x)\n"
   ]
  },
  {
   "cell_type": "code",
   "execution_count": 212,
   "metadata": {
    "colab": {
     "base_uri": "https://localhost:8080/",
     "height": 340
    },
    "colab_type": "code",
    "id": "7uPfSdFh-ZTC",
    "outputId": "65ff61a7-cf0a-441b-b7fa-48751fc139fa"
   },
   "outputs": [
    {
     "name": "stdout",
     "output_type": "stream",
     "text": [
      "Year\n",
      "2001\n",
      "2002\n",
      "2003\n",
      "2004\n",
      "2005\n",
      "2006\n",
      "2007\n",
      "2008\n",
      "2009\n",
      "2010\n",
      "2011\n",
      "2012\n",
      "\n",
      "\n",
      "Cruelty by Husband or his Relatives\n",
      "11\n",
      "13\n",
      "14\n",
      "4\n",
      "9\n",
      "14\n",
      "20\n",
      "13\n",
      "13\n",
      "12\n",
      "18\n",
      "26\n"
     ]
    }
   ],
   "source": [
    "print(\"Year\")\n",
    "for x in np.nditer(xs5):\n",
    "  print(x)\n",
    "print(\"\\n\\nCruelty by Husband or his Relatives\")\n",
    "for x in np.nditer(ys5):\n",
    "  print(x)\n",
    "#ypredd=m5*X_test5+b5\n",
    "#print(\"\\n\\nY_Predicted\")\n",
    "#for x in np.nditer(ypredd):\n",
    "#  print(int(x))\n",
    "\n"
   ]
  },
  {
   "cell_type": "code",
   "execution_count": 213,
   "metadata": {
    "colab": {
     "base_uri": "https://localhost:8080/",
     "height": 345
    },
    "colab_type": "code",
    "id": "nal9sJ0rvp-H",
    "outputId": "33ccb5af-90b3-4b81-aef6-f17a0c5a9c7f"
   },
   "outputs": [],
   "source": [
    "#trmergedlist=np.concatenate((X_train5, X_test5), axis=0)\n",
    "#print(trmergedlist)\n",
    "#temergedlist=np.concatenate((y_train5, ypredd), axis=0)\n",
    "#print(temergedlist)\n",
    "#m,b=slope_intercept(trmergedlist,temergedlist)\n",
    "#reg_line=[(m5*x)+b5 for x in trmergedlist]\n",
    "#plt.scatter(trmergedlist,temergedlist,color=\"red\")\n",
    "#plt.plot(trmergedlist,reg_line)\n",
    "#plt.ylabel(\"Cruelty by Husband or his Relatives crime rate\")\n",
    "#plt.xlabel(\"Year\")\n",
    "#plt.title(\"Making a regression line\")\n",
    "#plt.savefig('creultybyhusband_after_pred.png')"
   ]
  },
  {
   "cell_type": "code",
   "execution_count": 214,
   "metadata": {
    "colab": {
     "base_uri": "https://localhost:8080/",
     "height": 51
    },
    "colab_type": "code",
    "id": "MrFevmWs-ZLi",
    "outputId": "963fe497-30c6-460a-892d-ca8dd6596532"
   },
   "outputs": [
    {
     "name": "stdout",
     "output_type": "stream",
     "text": [
      "      0\n",
      "0  2013\n",
      "1  2014\n",
      "2  2015\n",
      "3  2016\n",
      "4  2017\n",
      "5  2018\n",
      "19\n",
      "20\n",
      "21\n",
      "22\n",
      "23\n",
      "24\n"
     ]
    }
   ],
   "source": [
    "years = np.array([2013,2014,2015,2016,2017,2018])\n",
    "df1=pd.DataFrame(years)\n",
    "print(df1)\n",
    "ypredd=(m5*years+b5)\n",
    "for x in np.nditer(ypredd):\n",
    "  print(int(x))"
   ]
  },
  {
   "cell_type": "code",
   "execution_count": 215,
   "metadata": {},
   "outputs": [
    {
     "name": "stdout",
     "output_type": "stream",
     "text": [
      "Years: [2001 2002 2003 2004 2005 2006 2007 2008 2009 2010 2011 2012 2013 2014\n",
      " 2015 2016 2017 2018]\n",
      "Insult to modesty of Women: [11.   13.   14.    4.    9.   14.   20.   13.   13.   12.   18.   26.\n",
      " 19.83 20.74 21.65 22.56 23.47 24.38]\n"
     ]
    },
    {
     "data": {
      "image/png": "[encoded data removed]",
      "text/plain": [
       "<Figure size 432x288 with 1 Axes>"
      ]
     },
     "metadata": {
      "needs_background": "light"
     },
     "output_type": "display_data"
    }
   ],
   "source": [
    "trmergedlist5=np.concatenate((xs5, years), axis=0)\n",
    "print(\"Years: \"+str(trmergedlist5))\n",
    "#print(\"Rape rate :\"+str(temergedlist))\n",
    "#print(ypredd)\n",
    "\n",
    "#print(temergedlist)\n",
    "#m,b=slope_intercept(trmergedlist,temergedlist)\n",
    "reg_line=[(m5*x)+b5 for x in trmergedlist5]\n",
    "temergedlist5=np.concatenate((ys5,ypredd), axis=0)\n",
    "print(\"Insult to modesty of Women: \"+str(temergedlist5))\n",
    "plt.scatter(trmergedlist5,temergedlist5,color=\"red\")\n",
    "plt.plot(trmergedlist5,reg_line)\n",
    "plt.xlim((2001,2018))\n",
    "#plt.ylim((800,1900))\n",
    "plt.ylabel(\"Cruelty by Husband or his Relatives crime rate\")\n",
    "plt.xlabel(\"Year\")\n",
    "plt.title(\"Making a regression line\")\n",
    "plt.savefig('creulty_after_pred.png')"
   ]
  },
  {
   "cell_type": "code",
   "execution_count": 216,
   "metadata": {
    "colab": {
     "base_uri": "https://localhost:8080/",
     "height": 340
    },
    "colab_type": "code",
    "id": "p9ra_Rh3-ZFh",
    "outputId": "9d69f424-19c1-4efa-bdc7-f4c326217ae6"
   },
   "outputs": [],
   "source": [
    "#Importation of Girls\n",
    "\n",
    "xs6=df.iloc[:,0]\n",
    "ys6=df.iloc[:,7]\n",
    "#from sklearn.model_selection import train_test_split  \n",
    "#X_train6, X_test6, y_train6, y_test6 = train_test_split(xs5, ys5, test_size=0.3, random_state=0) \n",
    "#print(str(X_train6)+\"\\n\\n\"+str(y_train6))\n"
   ]
  },
  {
   "cell_type": "code",
   "execution_count": 217,
   "metadata": {
    "colab": {
     "base_uri": "https://localhost:8080/",
     "height": 279
    },
    "colab_type": "code",
    "id": "gjWNEc2xBAdA",
    "outputId": "df21e492-b959-47d0-cf81-9104b55ea9db"
   },
   "outputs": [],
   "source": [
    "#plt.scatter(X_train6,y_train6)\n",
    "#plt.ylabel(\"Importation of Girls \")\n",
    "#plt.xlabel(\"Year\")\n",
    "#plt.show()\n"
   ]
  },
  {
   "cell_type": "code",
   "execution_count": 218,
   "metadata": {
    "colab": {
     "base_uri": "https://localhost:8080/",
     "height": 34
    },
    "colab_type": "code",
    "id": "Geu_5wPVBUrk",
    "outputId": "d9ddb6bf-d9fd-46c2-f0d4-e9f1b4f6281f"
   },
   "outputs": [
    {
     "data": {
      "text/plain": [
       "(-0.46, 924.41)"
      ]
     },
     "execution_count": 218,
     "metadata": {},
     "output_type": "execute_result"
    }
   ],
   "source": [
    "slope_intercept(xs6,ys6)"
   ]
  },
  {
   "cell_type": "code",
   "execution_count": 219,
   "metadata": {
    "colab": {
     "base_uri": "https://localhost:8080/",
     "height": 311
    },
    "colab_type": "code",
    "id": "DhdC32HVBAZw",
    "outputId": "abb524b1-59a0-48df-f845-7c4fb6bc4f40"
   },
   "outputs": [
    {
     "data": {
      "image/png": "[encoded data removed]",
      "text/plain": [
       "<Figure size 432x288 with 1 Axes>"
      ]
     },
     "metadata": {
      "needs_background": "light"
     },
     "output_type": "display_data"
    }
   ],
   "source": [
    "m6,b6=slope_intercept(xs6,ys6)\n",
    "reg_line=[(m6*x)+b6 for x in xs6]\n",
    "plt.scatter(xs6,ys6,color=\"red\")\n",
    "plt.plot(xs6,reg_line)\n",
    "plt.ylabel(\"Importation of Girls crime rate\")\n",
    "plt.xlabel(\"Year\")\n",
    "plt.title(\"Making a regression line\")\n",
    "plt.savefig('importation_before_pred.png')"
   ]
  },
  {
   "cell_type": "code",
   "execution_count": 220,
   "metadata": {
    "colab": {
     "base_uri": "https://localhost:8080/",
     "height": 391
    },
    "colab_type": "code",
    "id": "mGgU8zY0BAWU",
    "outputId": "ff5165fd-72c2-4962-a13e-5ca3c6c75663"
   },
   "outputs": [
    {
     "name": "stdout",
     "output_type": "stream",
     "text": [
      "Regressor intercept: -0.46\n",
      "Regressor coefficient: 924.41\n"
     ]
    }
   ],
   "source": [
    "print(\"Regressor intercept: \"+str(m6) )\n",
    "print(\"Regressor coefficient: \"+str(b6) )\n",
    "#y_pred = regressor.predict(X_test)\n",
    "#print(\"Year_train\")\n",
    "#for x in np.nditer(X_train6):\n",
    "#  print(x)\n",
    "#print(\"\\n\\n Importation of Girls_train\")\n",
    "#for x in np.nditer(y_train6):\n",
    "#print(x)\n",
    "\n"
   ]
  },
  {
   "cell_type": "code",
   "execution_count": 221,
   "metadata": {
    "colab": {
     "base_uri": "https://localhost:8080/",
     "height": 340
    },
    "colab_type": "code",
    "id": "Oiqo30ALBATm",
    "outputId": "17c6949b-6508-4986-c06a-a0c2632bb1a2"
   },
   "outputs": [
    {
     "name": "stdout",
     "output_type": "stream",
     "text": [
      "Year\n",
      "2001\n",
      "2002\n",
      "2003\n",
      "2004\n",
      "2005\n",
      "2006\n",
      "2007\n",
      "2008\n",
      "2009\n",
      "2010\n",
      "2011\n",
      "2012\n",
      "\n",
      "\n",
      "Importation of Girls\n",
      "7\n",
      "0\n",
      "5\n",
      "2\n",
      "3\n",
      "0\n",
      "0\n",
      "0\n",
      "0\n",
      "0\n",
      "0\n",
      "0\n"
     ]
    }
   ],
   "source": [
    "print(\"Year\")\n",
    "for x in np.nditer(xs6):\n",
    "  print(x)\n",
    "print(\"\\n\\nImportation of Girls\")\n",
    "for x in np.nditer(ys6):\n",
    "  print(x)\n",
    "#ypredd=m6*xs6+b6\n",
    "#print(\"\\n\\nY_Predicted\")\n",
    "#for x in np.nditer(ypredd):\n",
    " # if x <=0 :\n",
    " #   print(\"0\")\n",
    " # else:\n",
    "  #  print(int(x))"
   ]
  },
  {
   "cell_type": "code",
   "execution_count": 222,
   "metadata": {
    "colab": {
     "base_uri": "https://localhost:8080/",
     "height": 345
    },
    "colab_type": "code",
    "id": "IHLhMPc0wNHk",
    "outputId": "a89d3749-7033-494d-eb3f-23b4e47e8ddd"
   },
   "outputs": [],
   "source": [
    "#trmergedlist=np.concatenate((xs6, X_test6), axis=0)\n",
    "#print(trmergedlist)\n",
    "#temergedlist=np.concatenate((y_train6, ypredd), axis=0)\n",
    "#print(temergedlist)\n",
    "#m,b=slope_intercept(trmergedlist,temergedlist)\n",
    "#reg_line=[(m6*x)+b6 for x in trmergedlist]\n",
    "#plt.scatter(trmergedlist,temergedlist,color=\"red\")\n",
    "#plt.plot(trmergedlist,reg_line)\n",
    "#plt.ylabel(\"Importation of Girls crime rate\")\n",
    "#plt.xlabel(\"Year\")\n",
    "#plt.title(\"Making a regression line\")\n",
    "#plt.savefig('importation_after_pred.png')"
   ]
  },
  {
   "cell_type": "code",
   "execution_count": 223,
   "metadata": {
    "colab": {
     "base_uri": "https://localhost:8080/",
     "height": 51
    },
    "colab_type": "code",
    "id": "LNQ6A04EBAQv",
    "outputId": "3fa65be3-0522-44f6-9ec3-cb6a3587ce93"
   },
   "outputs": [
    {
     "name": "stdout",
     "output_type": "stream",
     "text": [
      "      0\n",
      "0  2013\n",
      "1  2014\n",
      "2  2015\n",
      "3  2016\n",
      "4  2017\n",
      "5  2018\n",
      "1\n",
      "2\n",
      "2\n",
      "2\n",
      "3\n",
      "3\n"
     ]
    }
   ],
   "source": [
    "years = np.array([2013,2014,2015,2016,2017,2018])\n",
    "df1=pd.DataFrame(years)\n",
    "print(df1)\n",
    "ypredd=(m6*years+b6)*-1\n",
    "for x in np.nditer(ypredd):\n",
    "  print(int(x))"
   ]
  },
  {
   "cell_type": "code",
   "execution_count": 224,
   "metadata": {},
   "outputs": [
    {
     "name": "stdout",
     "output_type": "stream",
     "text": [
      "Years: [2001 2002 2003 2004 2005 2006 2007 2008 2009 2010 2011 2012 2013 2014\n",
      " 2015 2016 2017 2018]\n",
      "Importation of Girls : [7.   0.   5.   2.   3.   0.   0.   0.   0.   0.   0.   0.   1.57 2.03\n",
      " 2.49 2.95 3.41 3.87]\n"
     ]
    },
    {
     "data": {
      "image/png": "[encoded data removed]",
      "text/plain": [
       "<Figure size 432x288 with 1 Axes>"
      ]
     },
     "metadata": {
      "needs_background": "light"
     },
     "output_type": "display_data"
    }
   ],
   "source": [
    "trmergedlist6=np.concatenate((xs6, years), axis=0)\n",
    "print(\"Years: \"+str(trmergedlist6))\n",
    "#print(\"Rape rate :\"+str(temergedlist))\n",
    "#print(ypredd)\n",
    "\n",
    "#print(temergedlist)\n",
    "#m,b=slope_intercept(trmergedlist,temergedlist)\n",
    "reg_line=[(m6*x)+b6 for x in trmergedlist6]\n",
    "temergedlist6=np.concatenate((ys6,ypredd), axis=0)\n",
    "print(\"Importation of Girls : \"+str(temergedlist6))\n",
    "plt.scatter(trmergedlist6,temergedlist6,color=\"red\")\n",
    "plt.plot(trmergedlist6,reg_line)\n",
    "plt.xlim((2001,2018))\n",
    "#plt.ylim((800,1900))\n",
    "plt.ylabel(\"Importation of Girls crime rate\")\n",
    "plt.xlabel(\"Year\")\n",
    "plt.title(\"Making a regression line\")\n",
    "plt.savefig('importation_after_pred.png')"
   ]
  },
  {
   "cell_type": "code",
   "execution_count": 225,
   "metadata": {
    "colab": {
     "base_uri": "https://localhost:8080/",
     "height": 34
    },
    "colab_type": "code",
    "id": "BwpUM7Sw-Y-L",
    "outputId": "dff549ee-90aa-4f8a-aa19-11a6d86621da"
   },
   "outputs": [
    {
     "name": "stdout",
     "output_type": "stream",
     "text": [
      "Accuracy: 77.0%\n"
     ]
    }
   ],
   "source": [
    "accuracy = regressor.score(x1_test,y11_test)\n",
    "accuracy=round(accuracy,2)\n",
    "print(\"Accuracy: \"+str(accuracy*100)+'%')\n"
   ]
  }
 ],
 "metadata": {
  "colab": {
   "collapsed_sections": [],
   "name": "linear_andhra.ipynb",
   "provenance": [],
   "version": "0.3.2"
  },
  "kernelspec": {
   "display_name": "Python 3",
   "language": "python",
   "name": "python3"
  },
  "language_info": {
   "codemirror_mode": {
    "name": "ipython",
    "version": 3
   },
   "file_extension": ".py",
   "mimetype": "text/x-python",
   "name": "python",
   "nbconvert_exporter": "python",
   "pygments_lexer": "ipython3",
   "version": "3.7.3"
  }
 },
 "nbformat": 4,
 "nbformat_minor": 1
}
